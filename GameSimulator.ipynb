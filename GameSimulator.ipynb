{
 "cells": [
  {
   "cell_type": "markdown",
   "metadata": {
    "deletable": true,
    "editable": true
   },
   "source": [
    "# Game Bot\n",
    "Let's start with imports"
   ]
  },
  {
   "cell_type": "code",
   "execution_count": 1,
   "metadata": {
    "collapsed": false,
    "deletable": true,
    "editable": true
   },
   "outputs": [
    {
     "name": "stderr",
     "output_type": "stream",
     "text": [
      "C:\\Users\\Matias\\RealAnaconda3\\lib\\site-packages\\h5py\\__init__.py:36: FutureWarning: Conversion of the second argument of issubdtype from `float` to `np.floating` is deprecated. In future, it will be treated as `np.float64 == np.dtype(float).type`.\n",
      "  from ._conv import register_converters as _register_converters\n",
      "Using TensorFlow backend.\n"
     ]
    }
   ],
   "source": [
    "from PIL import Image\n",
    "import pyscreenshot as ImageGrab\n",
    "from mss import mss\n",
    "from tqdm import tqdm\n",
    "from IPython.display import display\n",
    "import numpy as np\n",
    "import pytesseract\n",
    "import concurrent.futures\n",
    "import os\n",
    "import sys\n",
    "import random\n",
    "import time\n",
    "import pdb\n",
    "import keras\n",
    "from pathlib import Path\n",
    "import win32api, win32con\n",
    "from random import sample\n",
    "from keras import backend as K\n",
    "import random\n",
    "import keras\n",
    "from keras.models import Sequential\n",
    "from keras.layers import *\n",
    "from keras.optimizers import *\n",
    "from keras.layers import Dense, Flatten, Conv2D, MaxPooling2D, Activation\n",
    "from keras.optimizers import sgd, Adam, RMSprop\n",
    "from keras.preprocessing.image import ImageDataGenerator, array_to_img, img_to_array, load_img\n",
    "from functools import partial"
   ]
  },
  {
   "cell_type": "markdown",
   "metadata": {
    "deletable": true,
    "editable": true
   },
   "source": [
    "## Set up Network\n",
    "* Image input should be 300px by 300px\n",
    "* Output layer should be equal to the number of possible actions, which in this case is 2 (click or no click)\n",
    "* Epsilon-related values concern the ratio between exploring/exploiting. The earlier in the training process we are, the more exploration we will do. In short, we will perform a lot of random actions in the beginning, and gradually allow the model to predict more frequently."
   ]
  },
  {
   "cell_type": "code",
   "execution_count": 20,
   "metadata": {
    "collapsed": false,
    "deletable": true,
    "editable": true
   },
   "outputs": [],
   "source": [
    "if 'session' in locals() and session is not None:\n",
    "    session.close()\n",
    "    \n",
    "output_size = 2 # either tap or no tap\n",
    "\n",
    "# Deep-Q learning Agent\n",
    "class DQNAgent:\n",
    "    def __init__(self):\n",
    "        self.memory = []\n",
    "        self.gamma = 0.9  # decay rate\n",
    "        self.epsilon = 1  # exploration\n",
    "#         self.epsilon_decay = .995\n",
    "        self.epsilon_decay = .2\n",
    "        self.epsilon_min = 0.1\n",
    "        self.learning_rate = 0.0001\n",
    "        self._build_model()\n",
    "    \n",
    "    def _build_model(self):\n",
    "        model = Sequential()\n",
    "        model.add(Conv2D(32, (8, 8), strides=(4,4),input_shape=(1,300,300), padding='same', activation='relu'))\n",
    "        model.add(Conv2D(64, (4, 4), strides=(2,2), padding='same', activation='relu'))\n",
    "        model.add(Conv2D(64, (3, 3), strides=(1,1), padding='same', activation='relu'))\n",
    "        model.add(Flatten())\n",
    "        model.add(Dense(512, activation='linear'))\n",
    "        model.add(Dense(output_size)) # output layer, todo softmax\n",
    "\n",
    "        model.compile(loss='mse', optimizer=Adam(lr=1e-6))\n",
    "        self.model = model\n",
    "    \n",
    "    def remember(self, state, action, reward, next_state, done):\n",
    "        self.memory.append((state, action, reward, next_state, done))\n",
    "    \n",
    "    def act(self, state):\n",
    "        if np.random.rand() <= self.epsilon:\n",
    "            return int(random.uniform(0, output_size - 1))\n",
    "        act_values = self.model.predict(state)\n",
    "        return int(np.argmax(act_values[0]))\n",
    "\n",
    "    def replay_batch(self, batch):\n",
    "        state, action, reward, next_state, done = self.memory[batch]\n",
    "        target = reward\n",
    "        if not done:\n",
    "            target = reward + self.gamma * np.argmax(self.model.predict(next_state))\n",
    "        target_f = self.model.predict(state)\n",
    "        target_f[0][action] = target\n",
    "        self.model.fit(state, target_f, epochs=1, verbose=0)\n",
    "        \n",
    "    def replay(self, batch_size):\n",
    "        print('Replay')\n",
    "        batches = min(batch_size, len(self.memory))\n",
    "        batches = np.random.choice(len(self.memory), batches)\n",
    "        for batch in tqdm(batches):\n",
    "            self.replay_batch(batch)\n",
    "            \n",
    "        self.model.save_weights('modelSmove.h5')\n",
    "        if self.epsilon > self.epsilon_min:\n",
    "            self.epsilon *= self.epsilon_decay\n",
    "        print(self.epsilon)"
   ]
  },
  {
   "cell_type": "markdown",
   "metadata": {},
   "source": [
    "## Configurations"
   ]
  },
  {
   "cell_type": "code",
   "execution_count": 3,
   "metadata": {
    "collapsed": false,
    "deletable": true,
    "editable": true
   },
   "outputs": [],
   "source": [
    "pytesseract.pytesseract.tesseract_cmd = str(Path.cwd()/'tesseract/tesseract')\n",
    "K.set_image_dim_ordering('th')\n",
    "\n",
    "# orig_stdout = sys.stdout\n",
    "# f = open('out.txt', 'w')\n",
    "# sys.stdout = f\n",
    "\n",
    "x_pad, y_pad = win32api.GetSystemMetrics(0), win32api.GetSystemMetrics(1)\n",
    "game_play_dim = (x_pad*0.715, y_pad*0.04, x_pad, y_pad*0.94)"
   ]
  },
  {
   "cell_type": "markdown",
   "metadata": {},
   "source": [
    "### Movements"
   ]
  },
  {
   "cell_type": "code",
   "execution_count": 4,
   "metadata": {},
   "outputs": [],
   "source": [
    "# Positions depend on the dimensions of the computer\n",
    "top_center = (-int(x_pad*0.15), -int(y_pad*0.9))\n",
    "bottom_center = (-int(x_pad*0.15), -int(y_pad*0.15))\n",
    "left_middle = (-int(x_pad*0.27), -int(y_pad*0.5))\n",
    "right_middle = (-int(x_pad*0.02), -int(y_pad*0.5))\n",
    "\n",
    "top_right = (-int(x_pad*0.04), -int(y_pad*0.9))\n",
    "\n",
    "restart_button = (-int(x_pad*0.17), -int(y_pad*0.33))\n",
    "\n",
    "def mouse_pos(cord):\n",
    "    \"\"\"\n",
    "    Setting mouse position relative to screen dimensions\n",
    "    \"\"\"\n",
    "    win32api.SetCursorPos((x_pad + cord[0], y_pad + cord[1]))\n",
    "\n",
    "def left_hold(movement = None):\n",
    "    \"\"\"\n",
    "    Certain movements need to have the left mouse button held down\n",
    "    In case there is no movement, it is just a regular click\n",
    "    \"\"\"\n",
    "    win32api.mouse_event(win32con.MOUSEEVENTF_LEFTDOWN, 0 ,0)\n",
    "    time.sleep(.1)\n",
    "    if movement:\n",
    "        movement()\n",
    "    win32api.mouse_event(win32con.MOUSEEVENTF_LEFTUP, 0 ,0)\n",
    "\n",
    "def swipe(start_pos, end_pos):\n",
    "    \"\"\"\n",
    "    Generic swipe move\n",
    "    \"\"\"\n",
    "    mouse_pos(start_pos)\n",
    "    left_hold(lambda: mouse_pos(end_pos))\n",
    "\n",
    "swipe_down = partial(swipe, start_pos = top_center, end_pos = bottom_center)\n",
    "swipe_up = partial(swipe, start_pos = bottom_center, end_pos = top_center)\n",
    "swipe_right = partial(swipe, start_pos = left_middle, end_pos = right_middle)\n",
    "swipe_left = partial(swipe, start_pos = right_middle, end_pos = left_middle)\n",
    "\n",
    "def close_ads():\n",
    "    pass\n",
    "\n",
    "def pause():\n",
    "    mouse_pos(top_right)\n",
    "    left_hold()\n",
    "\n",
    "def restart():\n",
    "    mouse_pos(restart_button)\n",
    "    left_hold()\n",
    "    \n",
    "def reset():\n",
    "    \"\"\" Repeats NO-OP action until a new episode begins. \"\"\"\n",
    "    restart()\n",
    "    time.sleep(.5)\n",
    "    state = take_screenshot()\n",
    "    pause()\n",
    "    return state"
   ]
  },
  {
   "cell_type": "markdown",
   "metadata": {},
   "source": [
    "## Helpers"
   ]
  },
  {
   "cell_type": "code",
   "execution_count": 94,
   "metadata": {},
   "outputs": [
    {
     "name": "stdout",
     "output_type": "stream",
     "text": [
      "hye\n"
     ]
    }
   ],
   "source": [
    "# im = take_screenshot().crop(get_crop_values(150, 350, 90, 30))\n"
   ]
  },
  {
   "cell_type": "code",
   "execution_count": 96,
   "metadata": {},
   "outputs": [],
   "source": [
    "def select_action(action):\n",
    "    \"\"\" executes action, last action is \"do nothing\" \"\"\"\n",
    "    try:\n",
    "        [swipe_up, swipe_down, swipe_left, swipe_right, lambda: None][action]()\n",
    "    except Exception as e:\n",
    "        print(e, action)\n",
    "        \n",
    "def timeit(method):\n",
    "    \"\"\"\n",
    "    Performance Monitoring\n",
    "    \"\"\"\n",
    "    def timed(*args, **kw):\n",
    "        ts = time.time()\n",
    "        result = method(*args, **kw)\n",
    "        te = time.time()\n",
    "        if 'log_time' in kw:\n",
    "            name = kw.get('log_name', method.__name__.upper())\n",
    "            kw['log_time'][name] = int((te - ts) * 1000)\n",
    "        else:\n",
    "            print(f'{method.__name__}  {(te - ts) * 1000} ms')\n",
    "        return result\n",
    "    return timed\n",
    "\n",
    "def get_cords():\n",
    "    \"\"\"\n",
    "    Useful for debugging\n",
    "    \"\"\"\n",
    "    x,y = win32api.GetCursorPos()\n",
    "#     print (x,y)\n",
    "    x = x - x_pad\n",
    "    y = y - y_pad\n",
    "    print (f'x = {x},y = {y}')\n",
    "\n",
    "test_ob = ImageDataGenerator(rescale=1./255) \n",
    "\n",
    "def preprocess(im):\n",
    "    \"\"\"\n",
    "    Before neural net\n",
    "    \"\"\"\n",
    "#     im = im.resize((300,300)).convert('L')\n",
    "#     print(\"[INFO] loading and preprocessing image...\")\n",
    "#     image = img_to_array(im)\n",
    "#     image.reshape((1,) + image.shape)  # this is a Numpy array with shape (1, 3, 300, 300)\n",
    "    im = im.resize((300,300))\n",
    "    im = im.convert('L')\n",
    "    image = img_to_array(im)\n",
    "    image = image.reshape((1,) + image.shape)  # this is a Numpy array with shape (1, 3, 300, 300)\n",
    "\n",
    "    X = []\n",
    "    for batch in test_ob.flow(image, batch_size=1):\n",
    "        X = batch\n",
    "        break\n",
    "    return X\n",
    "\n",
    "def take_screenshot():\n",
    "    with mss() as sct:\n",
    "        monitor = sct.monitors[1]\n",
    "        sct_img = sct.grab(monitor)\n",
    "        return Image.frombytes('RGB', sct_img.size, sct_img.bgra, 'raw', 'BGRX').crop(game_play_dim).rotate(90)\n",
    "\n",
    "def get_crop_values(left, top, width, height):\n",
    "    return (left, top, left+width, top+height)\n",
    "\n",
    "INTRO_VIEW = 'Skiing'\n",
    "def check_landing(box = get_crop_values(115, 220, 120, 30)):\n",
    "    im = take_screenshot().crop()\n",
    "    text = pytesseract.image_to_string(im, config=f'-oem 0 -psm 6 -c tessedit_char_whitelist={INTRO_VIEW}')\n",
    "    return any(val in text for val in INTRO_VIEW)\n",
    "\n",
    "# Check if we did not lose game\n",
    "GAME_OVER = 'Score:'    \n",
    "def check_game_over(box = get_crop_values(150, 320, 100, 50)):\n",
    "    im = take_screenshot().crop(box)\n",
    "    text = pytesseract.image_to_string(im, config='-oem 0 -psm 6 -c tessedit_char_whitelist=Score:')\n",
    "    if any(val in text for val in GAME_OVER):\n",
    "        print('Game over encountered')\n",
    "        return True\n",
    "    else:\n",
    "        return False\n",
    "    \n",
    "def get_score(box = get_crop_values(10, 40, 60, 40)):\n",
    "    im = take_screenshot().crop(box)\n",
    "    text = pytesseract.image_to_string(im.convert('L'), config='-oem 0 -psm 6 -c tessedit_char_whitelist=0123456789')\n",
    "\n",
    "    try:\n",
    "        return int(text)\n",
    "    except Exception as e:\n",
    "        print(e, text)\n",
    "        return None"
   ]
  },
  {
   "cell_type": "markdown",
   "metadata": {},
   "source": [
    "## Gameplay"
   ]
  },
  {
   "cell_type": "code",
   "execution_count": 24,
   "metadata": {},
   "outputs": [],
   "source": [
    "def step(action, score):\n",
    "    executor = concurrent.futures.ThreadPoolExecutor()\n",
    "    futures = [executor.submit(get_score), executor.submit(check_game_over)]\n",
    "    res0, res1 = [future.result() for future in concurrent.futures.as_completed(futures, timeout=50.0)]\n",
    "    \n",
    "    if type(res0) == bool:\n",
    "        done = res0\n",
    "        s = res1\n",
    "    else:\n",
    "        s = res0\n",
    "        done = res1\n",
    "\n",
    "    if done or s is None:\n",
    "        reward = 0\n",
    "        s = score\n",
    "    else:\n",
    "        if s is None:\n",
    "            s = score\n",
    "        elif s > score:\n",
    "            reward = 1000\n",
    "        else:\n",
    "            reward =- 250\n",
    "        pause()\n",
    "        select_action(action)\n",
    "        time.sleep(0.2)\n",
    "\n",
    "        s = get_score()\n",
    "        if s == -1:\n",
    "            s = score\n",
    "        if done or s is None:\n",
    "            reward = 0\n",
    "            s = score\n",
    "        else:\n",
    "            if s > score:\n",
    "                reward = 1000\n",
    "            else:\n",
    "                reward =- 250\n",
    "    state = take_screenshot()\n",
    "#     time.sleep(0.2)\n",
    "    pause()\n",
    "    return state, reward, done, s, {}    "
   ]
  },
  {
   "cell_type": "code",
   "execution_count": 99,
   "metadata": {},
   "outputs": [
    {
     "name": "stderr",
     "output_type": "stream",
     "text": [
      "ERROR:root:Internal Python error in the inspect module.\n",
      "Below is the traceback from this internal error.\n",
      "\n",
      "\n",
      "KeyboardInterrupt\n",
      "\n"
     ]
    }
   ],
   "source": [
    "if __name__ == '__main__':\n",
    "#     check if app booted\n",
    "    is_landing = check_landing()\n",
    "    if is_landing:\n",
    "        mouse_pos((-210, -400))\n",
    "        left_hold() # focus on window first\n",
    "        time.sleep(0.1)\n",
    "        left_hold()\n",
    "        \n",
    "    agent = DQNAgent()\n",
    "    try:\n",
    "        agent.model.load_weights('modelSmove.h5')\n",
    "    except:\n",
    "        pass\n",
    "    episodes = 1200\n",
    "\n",
    "    for e in range(episodes):\n",
    "        state = reset()\n",
    "        state = preprocess(state)\n",
    "        score = 0\n",
    "        for time_t in range(5000):\n",
    "            action =  agent.act(state)\n",
    "            next_state, reward, done, score, _ = step(action, score)\n",
    "            next_state = preprocess(next_state)\n",
    "\n",
    "            reward = -5000 if done else reward\n",
    "\n",
    "            agent.remember(state, action, reward, next_state, done)\n",
    "\n",
    "            state = copy.deepcopy(next_state)\n",
    "\n",
    "            if done:\n",
    "                print(f'episode: {e}/{episodes}, score: {score}')\n",
    "                break\n",
    "        agent.replay(32)"
   ]
  },
  {
   "cell_type": "code",
   "execution_count": null,
   "metadata": {},
   "outputs": [],
   "source": []
  },
  {
   "cell_type": "code",
   "execution_count": null,
   "metadata": {},
   "outputs": [],
   "source": []
  },
  {
   "cell_type": "code",
   "execution_count": null,
   "metadata": {},
   "outputs": [],
   "source": []
  },
  {
   "cell_type": "code",
   "execution_count": null,
   "metadata": {},
   "outputs": [],
   "source": []
  },
  {
   "cell_type": "code",
   "execution_count": null,
   "metadata": {},
   "outputs": [],
   "source": []
  },
  {
   "cell_type": "code",
   "execution_count": null,
   "metadata": {},
   "outputs": [],
   "source": []
  },
  {
   "cell_type": "code",
   "execution_count": null,
   "metadata": {},
   "outputs": [],
   "source": []
  },
  {
   "cell_type": "code",
   "execution_count": null,
   "metadata": {},
   "outputs": [],
   "source": []
  },
  {
   "cell_type": "code",
   "execution_count": null,
   "metadata": {},
   "outputs": [],
   "source": []
  },
  {
   "cell_type": "code",
   "execution_count": null,
   "metadata": {},
   "outputs": [],
   "source": []
  }
 ],
 "metadata": {
  "kernelspec": {
   "display_name": "Python 3",
   "language": "python",
   "name": "python3"
  },
  "language_info": {
   "codemirror_mode": {
    "name": "ipython",
    "version": 3
   },
   "file_extension": ".py",
   "mimetype": "text/x-python",
   "name": "python",
   "nbconvert_exporter": "python",
   "pygments_lexer": "ipython3",
   "version": "3.6.4"
  }
 },
 "nbformat": 4,
 "nbformat_minor": 2
}
